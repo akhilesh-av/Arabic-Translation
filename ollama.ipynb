{
 "cells": [
  {
   "cell_type": "code",
   "execution_count": 1,
   "id": "1fa33519",
   "metadata": {},
   "outputs": [],
   "source": [
    "import ollama\n",
    "import pytesseract\n",
    "from PIL import Image\n",
    "import io"
   ]
  },
  {
   "cell_type": "code",
   "execution_count": 6,
   "id": "01425be8",
   "metadata": {},
   "outputs": [],
   "source": [
    "def preprocess_image(image):\n",
    "    \"\"\"Preprocess image for better OCR results\"\"\"\n",
    "    # Convert to grayscale\n",
    "    img = image.convert('L')\n",
    "    # Apply thresholding (adjust level as needed)\n",
    "    img = img.point(lambda x: 0 if x < 140 else 255)\n",
    "    return img\n",
    "\n",
    "def extract_text_from_image(image_path):\n",
    "    \"\"\"Extract Arabic text from image using Tesseract OCR\"\"\"\n",
    "    try:\n",
    "        # Open the image file\n",
    "        image = Image.open(image_path)\n",
    "        # Preprocess the image\n",
    "        processed_image = preprocess_image(image)\n",
    "        \n",
    "        # Configure Tesseract for Arabic (make sure you have Arabic language data installed)\n",
    "        custom_config = r'--oem 3 --psm 6 -l ara'\n",
    "        text = pytesseract.image_to_string(processed_image, config=custom_config)\n",
    "        \n",
    "        return text.strip()\n",
    "    except Exception as e:\n",
    "        print(f\"Error in OCR processing: {e}\")\n",
    "        return None\n",
    "\n",
    "def translate_with_ollama(text, src_lang=\"Arabic\", trg_lang=\"English\"):\n",
    "    \"\"\"Translate text using Ollama's LLaMA model\"\"\"\n",
    "    try:\n",
    "        # Create the prompt\n",
    "        prompt = (\n",
    "            \"Below is an instruction that describes a task, paired with an input that provides further context. \"\n",
    "            \"Write a response that appropriately completes the request.\\n\"\n",
    "            f\"### Instruction:\\nTranslate the following sentences from {src_lang} to {trg_lang}.\\n\"\n",
    "            f\"### Input:\\n{text}\\n\"\n",
    "            \"### Response:\"\n",
    "        )\n",
    "        \n",
    "        # Generate the translation\n",
    "        response = ollama.generate(\n",
    "            model='mannix/llamax3-8b-alpaca',\n",
    "            prompt=prompt,\n",
    "            options={'temperature': 0.3}  # Lower temperature for more deterministic output\n",
    "        )\n",
    "        \n",
    "        return response['response'].strip()\n",
    "    except Exception as e:\n",
    "        print(f\"Error in translation: {e}\")\n",
    "        return None"
   ]
  },
  {
   "cell_type": "code",
   "execution_count": 7,
   "id": "9b246842",
   "metadata": {},
   "outputs": [],
   "source": [
    "def main():\n",
    "    # Path to your image file\n",
    "    image_path = 'data\\pic_8.jpeg'  # Change this to your image path\n",
    "    \n",
    "    # Step 1: Extract text from image using OCR\n",
    "    print(\"Extracting text from image...\")\n",
    "    arabic_text = extract_text_from_image(image_path)\n",
    "    \n",
    "    if not arabic_text:\n",
    "        print(\"Failed to extract text from image.\")\n",
    "        return\n",
    "    \n",
    "    print(\"\\nExtracted Arabic Text:\")\n",
    "    print(arabic_text)\n",
    "    \n",
    "    # Step 2: Translate the extracted text\n",
    "    print(\"\\nTranslating to English...\")\n",
    "    english_translation = translate_with_ollama(arabic_text)\n",
    "    \n",
    "    if not english_translation:\n",
    "        print(\"Failed to translate text.\")\n",
    "        return\n",
    "    \n",
    "    print(\"\\nEnglish Translation:\")\n",
    "    print(english_translation)\n"
   ]
  },
  {
   "cell_type": "code",
   "execution_count": 8,
   "id": "1f2d2d9c",
   "metadata": {},
   "outputs": [
    {
     "name": "stdout",
     "output_type": "stream",
     "text": [
      "Extracting text from image...\n",
      "\n",
      "Extracted Arabic Text:\n",
      "بح الله وتوفيقه انطلقت حمل فرق سعد شان إخبري ‎٠‏\n",
      "‏ولجنة الزكاد يسمد الشأن يو العة غرة ريخ الأول ٣ءء‏ ا\n",
      "ااك لمساعنة أحالينا المتضررين من إعصار شاهىن\n",
      "في الباطنة > وقد اشرك في لجرل (.د2) فردا تقزيبا £\n",
      "مصحوة مها وشلها زيوي الثلاء والوسی) ب 3 شاحنات\n",
      "مالسا عدات المتتوعة كالماء والقذاء للاك ت ¢ يكزا ححرات\n",
      "الشنظيف المشنوعة خاصة ناقلات ومزيلات الا ءز3 والأوسا (اشيول\n",
      "الصفير ) وعند هال) مح صموربج الماء» وهنا جاغيزت ب للت\n",
      "\n",
      "ضاعة الى وجود لجل مسائية توزع الغراض الحا صن بالساء\n",
      "والأطمال» فلله اليد والعنة على توفيقه نجاح الجلة في\n",
      "تحقيق هدا نها من تمظيف العیوت > وون بالثاث وواد\n",
      "امف وحساعرة ي قل السييارات الكالقة.\n",
      "\n",
      "وماكان الجلة أن تسق ذكلم النجاح - بص توفي الله نويه\n",
      "\n",
      "اليعم المجمتي االبير من آهالي سمد الشأن وقراها؛يل ومن\n",
      "خارجها يش فلهمرحيعا جزل اشر والقدير» و خص بادك\n",
      "> بض الۇيسات في مقدمتها قور سمد» ذلك ج هر .\n",
      "\n",
      "Translating to English...\n",
      "\n",
      "English Translation:\n",
      "May God bless and guide the mission of Saad's team. They have gone to provide aid to those affected by Cyclone Shahin in the Batina Governorate. The operation is being conducted with two trucks, a water tank and a mobile kitchen. The vehicles are distributed among the villages of Smed al-Shaan and its surroundings, while outside help is provided by volunteers from the Red Crescent and the Civil Defense. May God grant them success and protection.\n"
     ]
    }
   ],
   "source": [
    "if __name__ == \"__main__\":\n",
    "    # Make sure you have Tesseract installed and in your PATH\n",
    "    pytesseract.pytesseract.tesseract_cmd = r'C:\\Program Files\\Tesseract-OCR\\tesseract.exe'  # Windows example\n",
    "    # For Linux/Mac, typically it's in PATH, but you might need: pytesseract.pytesseract.tesseract_cmd = '/usr/bin/tesseract'\n",
    "    \n",
    "    # Make sure Ollama is running (ollama serve)\n",
    "    main()"
   ]
  },
  {
   "cell_type": "markdown",
   "id": "b9671a10",
   "metadata": {},
   "source": [
    "May God bless and guide the mission of Saad's team. They have gone to provide aid to those affected by Cyclone Shahin in the Batina Governorate. The operation is being conducted with two trucks, a water tank and a mobile kitchen. The vehicles are distributed among the villages of Smed al-Shaan and its surroundings, while outside help is provided by volunteers from the Red Crescent and the Civil Defense. May God grant them success and protection."
   ]
  },
  {
   "cell_type": "code",
   "execution_count": null,
   "id": "4d204fd2",
   "metadata": {},
   "outputs": [],
   "source": []
  },
  {
   "cell_type": "code",
   "execution_count": null,
   "id": "09c7bf1b",
   "metadata": {},
   "outputs": [],
   "source": []
  }
 ],
 "metadata": {
  "kernelspec": {
   "display_name": "env",
   "language": "python",
   "name": "python3"
  },
  "language_info": {
   "codemirror_mode": {
    "name": "ipython",
    "version": 3
   },
   "file_extension": ".py",
   "mimetype": "text/x-python",
   "name": "python",
   "nbconvert_exporter": "python",
   "pygments_lexer": "ipython3",
   "version": "3.11.9"
  }
 },
 "nbformat": 4,
 "nbformat_minor": 5
}
